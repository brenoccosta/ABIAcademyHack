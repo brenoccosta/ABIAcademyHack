{
 "cells": [
  {
   "cell_type": "markdown",
   "id": "517b1723",
   "metadata": {},
   "source": [
    "# Ideação\n",
    "## Recomendação para pontos de venda locais\n",
    "### Pontifícia Universidade Católica de Campinas\n",
    "#### Breno Coltro da Costa\n",
    "#### João Roberto Crespi Júnior"
   ]
  },
  {
   "cell_type": "code",
   "execution_count": 1,
   "id": "6a022e82",
   "metadata": {},
   "outputs": [],
   "source": [
    "import pandas as pd\n",
    "import matplotlib.pyplot as plt\n",
    "import seaborn as sns\n",
    "import numpy as np"
   ]
  },
  {
   "cell_type": "code",
   "execution_count": 2,
   "id": "7d9a20da",
   "metadata": {},
   "outputs": [],
   "source": [
    "# Breno\n",
    "vendas = pd.read_excel(io='C:/Users/breno/Desktop/Minhas coisas/PUCC/Segundo Semestre/ABI Academy Hack/Projetos/Ideação/ABIAcademyHack/Venda Cruzada - Venda Adicional/Data.xlsx')\n",
    "\n",
    "# João Roberto\n",
    "# vendas = pd.read_excel(io='C:/Users/breno/Desktop/Minhas coisas/PUCC/Segundo Semestre/ABI Academy Hack/Projetos/Ideação/ABIAcademyHack/Venda Cruzada - Venda Adicional/Data.xlsx')"
   ]
  },
  {
   "cell_type": "code",
   "execution_count": 3,
   "id": "a63f77cb",
   "metadata": {},
   "outputs": [
    {
     "data": {
      "text/html": [
       "<div>\n",
       "<style scoped>\n",
       "    .dataframe tbody tr th:only-of-type {\n",
       "        vertical-align: middle;\n",
       "    }\n",
       "\n",
       "    .dataframe tbody tr th {\n",
       "        vertical-align: top;\n",
       "    }\n",
       "\n",
       "    .dataframe thead th {\n",
       "        text-align: right;\n",
       "    }\n",
       "</style>\n",
       "<table border=\"1\" class=\"dataframe\">\n",
       "  <thead>\n",
       "    <tr style=\"text-align: right;\">\n",
       "      <th></th>\n",
       "      <th>Unnamed: 0</th>\n",
       "      <th>Doc. Date</th>\n",
       "      <th>Material</th>\n",
       "      <th>Order qty</th>\n",
       "      <th>Ship-to nu</th>\n",
       "      <th>PCS delivered</th>\n",
       "      <th>HL delivered</th>\n",
       "      <th>delivery_days</th>\n",
       "      <th>delivery_flag</th>\n",
       "      <th>lead_time_creation_vs_rdd_flag</th>\n",
       "      <th>...</th>\n",
       "      <th>Container Size</th>\n",
       "      <th>Variétés</th>\n",
       "      <th>Segment LE</th>\n",
       "      <th>Latitude</th>\n",
       "      <th>Longitude</th>\n",
       "      <th>Degre Alc</th>\n",
       "      <th>TTC</th>\n",
       "      <th>Brut + TE</th>\n",
       "      <th>Net + TE - Hors majoration de rompu de palette</th>\n",
       "      <th>DA</th>\n",
       "    </tr>\n",
       "  </thead>\n",
       "  <tbody>\n",
       "    <tr>\n",
       "      <th>0</th>\n",
       "      <td>0</td>\n",
       "      <td>2021-01-11</td>\n",
       "      <td>10946</td>\n",
       "      <td>5.0</td>\n",
       "      <td>29606863</td>\n",
       "      <td>350.0</td>\n",
       "      <td>21.0</td>\n",
       "      <td>7</td>\n",
       "      <td>1</td>\n",
       "      <td>1</td>\n",
       "      <td>...</td>\n",
       "      <td>6,000 L</td>\n",
       "      <td>Blonde</td>\n",
       "      <td>PREMIUM</td>\n",
       "      <td>50.6455</td>\n",
       "      <td>2.9619</td>\n",
       "      <td>6.6</td>\n",
       "      <td>18.137448</td>\n",
       "      <td>15.582</td>\n",
       "      <td>15.114540</td>\n",
       "      <td>0.0</td>\n",
       "    </tr>\n",
       "    <tr>\n",
       "      <th>1</th>\n",
       "      <td>1</td>\n",
       "      <td>2021-01-11</td>\n",
       "      <td>19898</td>\n",
       "      <td>2.0</td>\n",
       "      <td>29606863</td>\n",
       "      <td>140.0</td>\n",
       "      <td>8.4</td>\n",
       "      <td>7</td>\n",
       "      <td>1</td>\n",
       "      <td>1</td>\n",
       "      <td>...</td>\n",
       "      <td>NaN</td>\n",
       "      <td>NaN</td>\n",
       "      <td>NaN</td>\n",
       "      <td>50.6455</td>\n",
       "      <td>2.9619</td>\n",
       "      <td>5.0</td>\n",
       "      <td>17.396467</td>\n",
       "      <td>14.688</td>\n",
       "      <td>14.497056</td>\n",
       "      <td>0.0</td>\n",
       "    </tr>\n",
       "    <tr>\n",
       "      <th>2</th>\n",
       "      <td>2</td>\n",
       "      <td>2021-01-11</td>\n",
       "      <td>80176</td>\n",
       "      <td>4.0</td>\n",
       "      <td>29606863</td>\n",
       "      <td>280.0</td>\n",
       "      <td>16.8</td>\n",
       "      <td>7</td>\n",
       "      <td>1</td>\n",
       "      <td>1</td>\n",
       "      <td>...</td>\n",
       "      <td>NaN</td>\n",
       "      <td>NaN</td>\n",
       "      <td>NaN</td>\n",
       "      <td>50.6455</td>\n",
       "      <td>2.9619</td>\n",
       "      <td>0.0</td>\n",
       "      <td>12.279859</td>\n",
       "      <td>10.368</td>\n",
       "      <td>10.233216</td>\n",
       "      <td>0.0</td>\n",
       "    </tr>\n",
       "    <tr>\n",
       "      <th>3</th>\n",
       "      <td>3</td>\n",
       "      <td>2021-01-11</td>\n",
       "      <td>66989</td>\n",
       "      <td>1.0</td>\n",
       "      <td>29606863</td>\n",
       "      <td>70.0</td>\n",
       "      <td>4.2</td>\n",
       "      <td>7</td>\n",
       "      <td>1</td>\n",
       "      <td>1</td>\n",
       "      <td>...</td>\n",
       "      <td>6,000 L</td>\n",
       "      <td>-</td>\n",
       "      <td>SUPER PREMIUM</td>\n",
       "      <td>50.6455</td>\n",
       "      <td>2.9619</td>\n",
       "      <td>8.0</td>\n",
       "      <td>21.996000</td>\n",
       "      <td>18.330</td>\n",
       "      <td>18.330000</td>\n",
       "      <td>0.0</td>\n",
       "    </tr>\n",
       "    <tr>\n",
       "      <th>4</th>\n",
       "      <td>4</td>\n",
       "      <td>2021-01-08</td>\n",
       "      <td>11766</td>\n",
       "      <td>70.0</td>\n",
       "      <td>29378784</td>\n",
       "      <td>70.0</td>\n",
       "      <td>4.2</td>\n",
       "      <td>6</td>\n",
       "      <td>1</td>\n",
       "      <td>1</td>\n",
       "      <td>...</td>\n",
       "      <td>NaN</td>\n",
       "      <td>NaN</td>\n",
       "      <td>NaN</td>\n",
       "      <td>50.6978</td>\n",
       "      <td>2.2423</td>\n",
       "      <td>5.2</td>\n",
       "      <td>17.359200</td>\n",
       "      <td>14.466</td>\n",
       "      <td>14.466000</td>\n",
       "      <td>0.0</td>\n",
       "    </tr>\n",
       "  </tbody>\n",
       "</table>\n",
       "<p>5 rows × 32 columns</p>\n",
       "</div>"
      ],
      "text/plain": [
       "   Unnamed: 0  Doc. Date  Material  Order qty  Ship-to nu  PCS delivered  \\\n",
       "0           0 2021-01-11     10946        5.0    29606863          350.0   \n",
       "1           1 2021-01-11     19898        2.0    29606863          140.0   \n",
       "2           2 2021-01-11     80176        4.0    29606863          280.0   \n",
       "3           3 2021-01-11     66989        1.0    29606863           70.0   \n",
       "4           4 2021-01-08     11766       70.0    29378784           70.0   \n",
       "\n",
       "   HL delivered  delivery_days  delivery_flag  lead_time_creation_vs_rdd_flag  \\\n",
       "0          21.0              7              1                               1   \n",
       "1           8.4              7              1                               1   \n",
       "2          16.8              7              1                               1   \n",
       "3           4.2              7              1                               1   \n",
       "4           4.2              6              1                               1   \n",
       "\n",
       "   ...  Container Size Variétés     Segment LE Latitude Longitude Degre Alc  \\\n",
       "0  ...         6,000 L   Blonde        PREMIUM  50.6455    2.9619       6.6   \n",
       "1  ...             NaN      NaN            NaN  50.6455    2.9619       5.0   \n",
       "2  ...             NaN      NaN            NaN  50.6455    2.9619       0.0   \n",
       "3  ...         6,000 L        -  SUPER PREMIUM  50.6455    2.9619       8.0   \n",
       "4  ...             NaN      NaN            NaN  50.6978    2.2423       5.2   \n",
       "\n",
       "         TTC  Brut + TE Net + TE - Hors majoration de rompu de palette   DA  \n",
       "0  18.137448     15.582                                      15.114540  0.0  \n",
       "1  17.396467     14.688                                      14.497056  0.0  \n",
       "2  12.279859     10.368                                      10.233216  0.0  \n",
       "3  21.996000     18.330                                      18.330000  0.0  \n",
       "4  17.359200     14.466                                      14.466000  0.0  \n",
       "\n",
       "[5 rows x 32 columns]"
      ]
     },
     "execution_count": 3,
     "metadata": {},
     "output_type": "execute_result"
    }
   ],
   "source": [
    "vendas.head()"
   ]
  },
  {
   "cell_type": "markdown",
   "id": "146594e2",
   "metadata": {},
   "source": [
    "###### Remoção de colunas"
   ]
  },
  {
   "cell_type": "code",
   "execution_count": null,
   "id": "31510615",
   "metadata": {
    "scrolled": true
   },
   "outputs": [],
   "source": []
  },
  {
   "cell_type": "markdown",
   "id": "2ecf8300",
   "metadata": {},
   "source": [
    "# Análise exploratória"
   ]
  },
  {
   "cell_type": "markdown",
   "id": "3dd0e54d",
   "metadata": {},
   "source": [
    "### Clientes [179]"
   ]
  },
  {
   "cell_type": "code",
   "execution_count": 4,
   "id": "07341084",
   "metadata": {},
   "outputs": [
    {
     "data": {
      "text/plain": [
       "29379855    1448\n",
       "29379651    1253\n",
       "29595514    1198\n",
       "29379625    1196\n",
       "29563495    1181\n",
       "            ... \n",
       "29801344      12\n",
       "29724733       8\n",
       "29996996       7\n",
       "29801553       4\n",
       "29833190       3\n",
       "Name: Ship-to nu, Length: 179, dtype: int64"
      ]
     },
     "execution_count": 4,
     "metadata": {},
     "output_type": "execute_result"
    }
   ],
   "source": [
    "vendas['Ship-to nu'].value_counts()"
   ]
  },
  {
   "cell_type": "code",
   "execution_count": 5,
   "id": "6ef06967",
   "metadata": {},
   "outputs": [
    {
     "data": {
      "text/plain": [
       "array([1448, 1253, 1198, 1196, 1181, 1149, 1044,  996,  984,  978,  959,\n",
       "        928,  926,  916,  885,  870,  851,  844,  838,  824,  800,  789,\n",
       "        788,  779,  767,  732,  715,  708,  700,  697,  693,  678,  670,\n",
       "        670,  659,  659,  643,  638,  636,  632,  632,  619,  619,  616,\n",
       "        597,  594,  586,  585,  578,  575,  574,  566,  565,  551,  545,\n",
       "        538,  519,  498,  498,  496,  481,  474,  471,  467,  464,  461,\n",
       "        459,  458,  455,  448,  441,  435,  409,  409,  399,  394,  394,\n",
       "        392,  386,  382,  381,  376,  373,  368,  362,  358,  358,  352,\n",
       "        351,  351,  349,  347,  345,  344,  333,  328,  319,  316,  316,\n",
       "        315,  310,  309,  303,  299,  298,  294,  293,  281,  281,  267,\n",
       "        261,  256,  251,  249,  249,  248,  244,  243,  242,  234,  233,\n",
       "        232,  230,  223,  216,  216,  209,  207,  201,  200,  198,  191,\n",
       "        188,  185,  184,  183,  178,  167,  156,  156,  154,  137,  136,\n",
       "        134,  134,  133,  131,  129,  124,  118,  113,  110,  110,  109,\n",
       "        103,  101,  101,   99,   96,   89,   82,   66,   64,   62,   52,\n",
       "         42,   42,   40,   38,   30,   28,   26,   25,   20,   12,    8,\n",
       "          7,    4,    3], dtype=int64)"
      ]
     },
     "execution_count": 5,
     "metadata": {},
     "output_type": "execute_result"
    }
   ],
   "source": [
    "vendas['Ship-to nu'].value_counts().index  # 179\n",
    "vendas['Ship-to nu'].value_counts().values.sum()  # 73.670\n",
    "vendas['Ship-to nu'].value_counts().values"
   ]
  },
  {
   "cell_type": "code",
   "execution_count": 6,
   "id": "e4e5ae97",
   "metadata": {
    "scrolled": true
   },
   "outputs": [
    {
     "data": {
      "text/plain": [
       "[0.019655219220849736,\n",
       " 0.03666349938916791,\n",
       " 0.052925207004207955,\n",
       " 0.06915976652640152,\n",
       " 0.08519071535224651,\n",
       " 0.10078729469254785,\n",
       " 0.11495859915840913,\n",
       " 0.12847834939595493,\n",
       " 0.14183521107642189,\n",
       " 0.1551106284783494,\n",
       " 0.16812813899823537,\n",
       " 0.18072485407900094,\n",
       " 0.19329442106692002,\n",
       " 0.20572824759060673,\n",
       " 0.21774127867517304,\n",
       " 0.22955069906339076,\n",
       " 0.24110221256956696,\n",
       " 0.2525587077507805,\n",
       " 0.2639337586534546,\n",
       " 0.27511877290620335,\n",
       " 0.28597801004479434,\n",
       " 0.29668793267272975,\n",
       " 0.3073842812542419,\n",
       " 0.31795846341794487,\n",
       " 0.328369757024569,\n",
       " 0.3383059590063798,\n",
       " 0.3480114021989955,\n",
       " 0.3576218270666486,\n",
       " 0.3671236595629157,\n",
       " 0.37658476991991313,\n",
       " 0.3859915840912176,\n",
       " 0.3951947875661735,\n",
       " 0.40428939866974345,\n",
       " 0.4133840097733134,\n",
       " 0.4223293063662278,\n",
       " 0.4312746029591421,\n",
       " 0.44000271480928466,\n",
       " 0.44866295642731097,\n",
       " 0.45729604995249085,\n",
       " 0.46587484729197776,\n",
       " 0.47445364463146467,\n",
       " 0.48285597936744945,\n",
       " 0.49125831410343423,\n",
       " 0.4996199267001493,\n",
       " 0.5077236324148229,\n",
       " 0.5157866159902267,\n",
       " 0.5237410071942445,\n",
       " 0.5316818243518392,\n",
       " 0.5395276231844712,\n",
       " 0.5473326998778335,\n",
       " 0.5551242025247726,\n",
       " 0.5628071128003257,\n",
       " 0.5704764490294556,\n",
       " 0.5779557486086602,\n",
       " 0.5853536039093253,\n",
       " 0.5926564408850278,\n",
       " 0.5997013709786887,\n",
       " 0.6064612460974615,\n",
       " 0.6132211212162344,\n",
       " 0.6199538482421608,\n",
       " 0.6264829645717387,\n",
       " 0.6329170625763538,\n",
       " 0.6393104384416993,\n",
       " 0.6456495181213519,\n",
       " 0.6519478756617346,\n",
       " 0.6582055110628477,\n",
       " 0.6644359983711143,\n",
       " 0.6706529116329577,\n",
       " 0.6768291027555313,\n",
       " 0.6829102755531423,\n",
       " 0.6888964300257906,\n",
       " 0.6948011402198995,\n",
       " 0.7003529252070041,\n",
       " 0.7059047101941087,\n",
       " 0.711320754716981,\n",
       " 0.716668929007737,\n",
       " 0.7220171032984931,\n",
       " 0.7273381294964028,\n",
       " 0.7325777114157729,\n",
       " 0.73776299714945,\n",
       " 0.742934708836704,\n",
       " 0.7480385502918417,\n",
       " 0.7531016696077099,\n",
       " 0.7580969186914617,\n",
       " 0.7630107234966741,\n",
       " 0.7678702321161935,\n",
       " 0.772729740735713,\n",
       " 0.777507805076693,\n",
       " 0.7822722953712499,\n",
       " 0.7870367856658067,\n",
       " 0.791774127867517,\n",
       " 0.7964843219763809,\n",
       " 0.8011673679923982,\n",
       " 0.8058368399619923,\n",
       " 0.8103569974209308,\n",
       " 0.8148092846477532,\n",
       " 0.8191394054567663,\n",
       " 0.8234288041265098,\n",
       " 0.8277182027962532,\n",
       " 0.8319940274195734,\n",
       " 0.8362019818107774,\n",
       " 0.8403963621555582,\n",
       " 0.8445092982217995,\n",
       " 0.848567938102348,\n",
       " 0.8526130039364731,\n",
       " 0.8566037735849052,\n",
       " 0.8605809691869142,\n",
       " 0.8643952762318443,\n",
       " 0.8682095832767744,\n",
       " 0.8718338536717792,\n",
       " 0.8753766797882445,\n",
       " 0.8788516356725936,\n",
       " 0.8822587213248265,\n",
       " 0.885638658884213,\n",
       " 0.8890185964435995,\n",
       " 0.8923849599565628,\n",
       " 0.895697027283833,\n",
       " 0.89899552056468,\n",
       " 0.9022804397991038,\n",
       " 0.9054567666621417,\n",
       " 0.9086195194787563,\n",
       " 0.9117686982489477,\n",
       " 0.9148907289262926,\n",
       " 0.9179177412786749,\n",
       " 0.9208497353060945,\n",
       " 0.9237817293335141,\n",
       " 0.926618705035971,\n",
       " 0.9294285326455815,\n",
       " 0.9321569159766524,\n",
       " 0.9348717252613001,\n",
       " 0.9375593864531014,\n",
       " 0.94015202931994,\n",
       " 0.942703950047509,\n",
       " 0.9452151486358081,\n",
       " 0.9477127731776841,\n",
       " 0.9501968236731368,\n",
       " 0.9526130039364733,\n",
       " 0.9548798696891542,\n",
       " 0.9569974209311795,\n",
       " 0.9591149721732047,\n",
       " 0.9612053753223835,\n",
       " 0.9630650196823672,\n",
       " 0.9649110899959277,\n",
       " 0.9667300122166417,\n",
       " 0.9685489344373557,\n",
       " 0.9703542826116465,\n",
       " 0.9721324826930907,\n",
       " 0.9738835346816885,\n",
       " 0.9755667164381702,\n",
       " 0.9771684539161123,\n",
       " 0.9787023211619382,\n",
       " 0.9801954662684945,\n",
       " 0.9816886113750508,\n",
       " 0.9831681824351839,\n",
       " 0.9845663092167775,\n",
       " 0.9859372879055246,\n",
       " 0.9873082665942717,\n",
       " 0.9886520971901723,\n",
       " 0.9899552056468033,\n",
       " 0.9911632957784715,\n",
       " 0.9922763675851771,\n",
       " 0.9931722546491109,\n",
       " 0.9940409936201982,\n",
       " 0.9948825844984389,\n",
       " 0.9955884349124473,\n",
       " 0.9961585448622233,\n",
       " 0.9967286548119993,\n",
       " 0.9972716166689289,\n",
       " 0.997787430433012,\n",
       " 0.9981946518257091,\n",
       " 0.9985747251255598,\n",
       " 0.998927650332564,\n",
       " 0.999267001493145,\n",
       " 0.9995384824216097,\n",
       " 0.9997013709786886,\n",
       " 0.9998099633500745,\n",
       " 0.9999049816750373,\n",
       " 0.9999592778607302,\n",
       " 1.0]"
      ]
     },
     "execution_count": 6,
     "metadata": {},
     "output_type": "execute_result"
    }
   ],
   "source": [
    "cumulativoclientes = []\n",
    "\n",
    "for i in range(len(vendas['Ship-to nu'].value_counts().index)):\n",
    "    cumulativoclientes.append(vendas['Ship-to nu'].value_counts().array[i] / 73670)\n",
    "    \n",
    "for i in range(1, len(vendas['Ship-to nu'].value_counts().index)):\n",
    "    cumulativoclientes[i] += cumulativoclientes[i - 1]\n",
    "    \n",
    "cumulativoclientes"
   ]
  },
  {
   "cell_type": "code",
   "execution_count": 29,
   "id": "c48abedb",
   "metadata": {},
   "outputs": [
    {
     "data": {
      "image/png": "[encoded data removed]",
      "text/plain": [
       "<Figure size 864x576 with 2 Axes>"
      ]
     },
     "metadata": {
      "needs_background": "light"
     },
     "output_type": "display_data"
    }
   ],
   "source": [
    "'''Aprimorar gráfico'''\n",
    "plt.subplots(figsize=(12, 8))\n",
    "\n",
    "# Gráfico de barras\n",
    "sns.barplot(x=list(x for x in range(0, 179)), y=vendas['Ship-to nu'].value_counts().values, color='xkcd:light blue')\n",
    "plt.xticks([0, 35, 70, 105, 140, 175])\n",
    "plt.grid(axis='x')\n",
    "plt.ylim(-5, 1500)\n",
    "plt.xlim(-1, 180)\n",
    "\n",
    "# Gráfico cumulativo\n",
    "plt.twinx()\n",
    "sns.lineplot(x=list(x for x in range(0, 179)), y=cumulativoclientes, lw=3, color='xkcd:green', marker='>', markersize=10)\n",
    "plt.ylim(0, 1.5)\n",
    "\n",
    "# Aprimoração da visualização\n",
    "plt.grid()\n",
    "\n",
    "plt.show()"
   ]
  },
  {
   "cell_type": "markdown",
   "id": "0352a15a",
   "metadata": {},
   "source": [
    "#### Exploração dos vários clientes"
   ]
  },
  {
   "cell_type": "code",
   "execution_count": 21,
   "id": "4145e446",
   "metadata": {},
   "outputs": [
    {
     "data": {
      "text/plain": [
       "False    72843\n",
       "True       827\n",
       "Name: Sous groupement, dtype: int64"
      ]
     },
     "execution_count": 21,
     "metadata": {},
     "output_type": "execute_result"
    }
   ],
   "source": [
    "vendas['Sous groupement'].value_counts()\n",
    "vendas['Sous groupement'].isna().value_counts()  # 827 sem classificação"
   ]
  },
  {
   "cell_type": "markdown",
   "id": "2c2ec408",
   "metadata": {},
   "source": [
    "Não consegui identificar quais clientes são on-trade e quais são off-trade pela análise do banco de dados."
   ]
  },
  {
   "cell_type": "markdown",
   "id": "cca618d8",
   "metadata": {},
   "source": [
    "### Marcas comercializadas"
   ]
  },
  {
   "cell_type": "code",
   "execution_count": 9,
   "id": "8954d0c9",
   "metadata": {},
   "outputs": [
    {
     "data": {
      "text/plain": [
       "LEFFE               12253\n",
       "HOEGAARDEN           4514\n",
       "TRIPLE KARMELIET     3383\n",
       "KWAK                 2808\n",
       "BUD                  1901\n",
       "GOOSE                1324\n",
       "CORONA               1322\n",
       "GINETTE               434\n",
       "CAMDEN                315\n",
       "BIRRA DEL BORGO        62\n",
       "Name: Brand, dtype: int64"
      ]
     },
     "execution_count": 9,
     "metadata": {},
     "output_type": "execute_result"
    }
   ],
   "source": [
    "vendas.index  # 73.670\n",
    "vendas.Brand.isna().sum()  # 45.354\n",
    "vendas.Brand.value_counts().sum()  # 28.316\n",
    "vendas.Brand.value_counts()  # As dez marcas..."
   ]
  },
  {
   "cell_type": "code",
   "execution_count": 10,
   "id": "5690ce46",
   "metadata": {
    "scrolled": true
   },
   "outputs": [
    {
     "data": {
      "text/plain": [
       "LEFFE               0.432724\n",
       "HOEGAARDEN          0.159415\n",
       "TRIPLE KARMELIET    0.119473\n",
       "KWAK                0.099167\n",
       "BUD                 0.067135\n",
       "GOOSE               0.046758\n",
       "CORONA              0.046687\n",
       "GINETTE             0.015327\n",
       "CAMDEN              0.011124\n",
       "BIRRA DEL BORGO     0.002190\n",
       "Name: Brand, dtype: float64"
      ]
     },
     "execution_count": 10,
     "metadata": {},
     "output_type": "execute_result"
    }
   ],
   "source": [
    "vendas.Brand.value_counts() / 28316  # ... em porcentagem"
   ]
  },
  {
   "cell_type": "code",
   "execution_count": 11,
   "id": "c7e811fa",
   "metadata": {
    "scrolled": true
   },
   "outputs": [
    {
     "data": {
      "text/plain": [
       "[0.4327235485238028,\n",
       " 0.5921387201582144,\n",
       " 0.7116118095776239,\n",
       " 0.8107783585252154,\n",
       " 0.8779135471111739,\n",
       " 0.9246715637801949,\n",
       " 0.9713589490040966,\n",
       " 0.9866859725949992,\n",
       " 0.9978104252012996,\n",
       " 1.0]"
      ]
     },
     "execution_count": 11,
     "metadata": {},
     "output_type": "execute_result"
    }
   ],
   "source": [
    "cumulativo = []\n",
    "\n",
    "for i in range(len(vendas.Brand.value_counts().index)):\n",
    "    cumulativo.append(vendas.Brand.value_counts()[i] / 28316)\n",
    "    \n",
    "for i in range(1, len(vendas.Brand.value_counts().index)):\n",
    "    cumulativo[i] += cumulativo[i - 1]\n",
    "    \n",
    "cumulativo"
   ]
  },
  {
   "cell_type": "code",
   "execution_count": 32,
   "id": "c8995ef9",
   "metadata": {
    "scrolled": false
   },
   "outputs": [
    {
     "data": {
      "image/png": "[encoded data removed]",
      "text/plain": [
       "<Figure size 720x288 with 2 Axes>"
      ]
     },
     "metadata": {
      "needs_background": "light"
     },
     "output_type": "display_data"
    }
   ],
   "source": [
    "'''Aprimorar gráfico'''\n",
    "plt.subplots(figsize=(10, 4))\n",
    "\n",
    "# Gráfico de barras\n",
    "sns.barplot(x=vendas.Brand.value_counts().index, y=vendas.Brand.value_counts())\n",
    "plt.xlabel(\"Marca\")\n",
    "plt.ylabel(\"Pedidos\")\n",
    "\n",
    "# Gráfico de linha cumulativa de vendas\n",
    "plt.twinx()\n",
    "sns.lineplot(x=vendas.Brand.value_counts().index, y=cumulativo, lw=3, color='xkcd:red', marker='o', markersize=10)\n",
    "plt.ylim(0, 1.07)\n",
    "plt.ylabel(\"Contribuição percentual cumulativa\")\n",
    "\n",
    "# Aprimoração da visualização\n",
    "plt.grid()\n",
    "\n",
    "plt.show()"
   ]
  },
  {
   "cell_type": "markdown",
   "id": "8472fbf7",
   "metadata": {},
   "source": [
    "#### Submarcas"
   ]
  },
  {
   "cell_type": "code",
   "execution_count": 124,
   "id": "44280366",
   "metadata": {
    "collapsed": true
   },
   "outputs": [
    {
     "data": {
      "text/plain": [
       "LEFFE               12253\n",
       "HOEGAARDEN           4514\n",
       "TRIPLE KARMELIET     3383\n",
       "KWAK                 2808\n",
       "BUD                  1901\n",
       "GOOSE                1324\n",
       "CORONA               1322\n",
       "GINETTE               434\n",
       "CAMDEN                315\n",
       "BIRRA DEL BORGO        62\n",
       "Name: Brand, dtype: int64"
      ]
     },
     "execution_count": 124,
     "metadata": {},
     "output_type": "execute_result"
    }
   ],
   "source": [
    "vendas.Brand.value_counts()"
   ]
  },
  {
   "cell_type": "code",
   "execution_count": 125,
   "id": "40f87de5",
   "metadata": {},
   "outputs": [
    {
     "data": {
      "text/plain": [
       "LEFFE BLONDE        4784\n",
       "LEFFE RUBY          2661\n",
       "LEFFE ROYALE        2179\n",
       "LEFFE RITUEL 9°      881\n",
       "LEFFE BRUNE          706\n",
       "LEFFE AMBREE         511\n",
       "LEFFE BLONDE 0,0     301\n",
       "LEFFE LA LEGERE      202\n",
       "LEFFE TRIPLE          28\n",
       "Name: Subrand, dtype: int64"
      ]
     },
     "execution_count": 125,
     "metadata": {},
     "output_type": "execute_result"
    }
   ],
   "source": [
    "vendas.Subrand.loc[vendas.Brand == 'LEFFE'].value_counts()"
   ]
  },
  {
   "cell_type": "code",
   "execution_count": 126,
   "id": "08734859",
   "metadata": {},
   "outputs": [
    {
     "data": {
      "text/plain": [
       "HOEGAARDEN WHITE        3171\n",
       "HOEGAARDEN ROSEE        1251\n",
       "HOEGAARDEN GRAND CRU      92\n",
       "Name: Subrand, dtype: int64"
      ]
     },
     "execution_count": 126,
     "metadata": {},
     "output_type": "execute_result"
    }
   ],
   "source": [
    "vendas.Subrand.loc[vendas.Brand == 'HOEGAARDEN'].value_counts()"
   ]
  },
  {
   "cell_type": "code",
   "execution_count": 127,
   "id": "52dfd8d0",
   "metadata": {},
   "outputs": [
    {
     "data": {
      "text/plain": [
       "TRIPLE KARMELIET    3383\n",
       "Name: Subrand, dtype: int64"
      ]
     },
     "execution_count": 127,
     "metadata": {},
     "output_type": "execute_result"
    }
   ],
   "source": [
    "vendas.Subrand.loc[vendas.Brand == 'TRIPLE KARMELIET'].value_counts()"
   ]
  },
  {
   "cell_type": "code",
   "execution_count": 128,
   "id": "e6c90e09",
   "metadata": {},
   "outputs": [
    {
     "data": {
      "text/plain": [
       "KWAK    2808\n",
       "Name: Subrand, dtype: int64"
      ]
     },
     "execution_count": 128,
     "metadata": {},
     "output_type": "execute_result"
    }
   ],
   "source": [
    "vendas.Subrand.loc[vendas.Brand == 'KWAK'].value_counts()"
   ]
  },
  {
   "cell_type": "code",
   "execution_count": 129,
   "id": "ab7f42dc",
   "metadata": {},
   "outputs": [
    {
     "data": {
      "text/plain": [
       "Series([], Name: Subrand, dtype: int64)"
      ]
     },
     "execution_count": 129,
     "metadata": {},
     "output_type": "execute_result"
    }
   ],
   "source": [
    "vendas.Subrand.loc[vendas.Brand == 'BUD'].value_counts()"
   ]
  },
  {
   "cell_type": "code",
   "execution_count": 130,
   "id": "5eb90a77",
   "metadata": {},
   "outputs": [
    {
     "data": {
      "text/plain": [
       "GOOSE    1324\n",
       "Name: Subrand, dtype: int64"
      ]
     },
     "execution_count": 130,
     "metadata": {},
     "output_type": "execute_result"
    }
   ],
   "source": [
    "vendas.Subrand.loc[vendas.Brand == 'GOOSE'].value_counts()"
   ]
  },
  {
   "cell_type": "code",
   "execution_count": 131,
   "id": "51980bf6",
   "metadata": {},
   "outputs": [
    {
     "data": {
      "text/plain": [
       "CORONA EXTRA    1322\n",
       "Name: Subrand, dtype: int64"
      ]
     },
     "execution_count": 131,
     "metadata": {},
     "output_type": "execute_result"
    }
   ],
   "source": [
    "vendas.Subrand.loc[vendas.Brand == 'CORONA'].value_counts()"
   ]
  },
  {
   "cell_type": "code",
   "execution_count": 132,
   "id": "aca8f286",
   "metadata": {},
   "outputs": [
    {
     "data": {
      "text/plain": [
       "GINETTE LAGER      189\n",
       "GINETTE BLANCHE    120\n",
       "GINETTE FRUIT       89\n",
       "GINETTE TRIPLE      31\n",
       "GINETTE BLONDE       5\n",
       "Name: Subrand, dtype: int64"
      ]
     },
     "execution_count": 132,
     "metadata": {},
     "output_type": "execute_result"
    }
   ],
   "source": [
    "vendas.Subrand.loc[vendas.Brand == 'GINETTE'].value_counts()"
   ]
  },
  {
   "cell_type": "code",
   "execution_count": 133,
   "id": "168f8839",
   "metadata": {},
   "outputs": [
    {
     "data": {
      "text/plain": [
       "CAMDEN PALE ALE    247\n",
       "CAMDEN HELLS        68\n",
       "Name: Subrand, dtype: int64"
      ]
     },
     "execution_count": 133,
     "metadata": {},
     "output_type": "execute_result"
    }
   ],
   "source": [
    "vendas.Subrand.loc[vendas.Brand == 'CAMDEN'].value_counts()"
   ]
  },
  {
   "cell_type": "code",
   "execution_count": 134,
   "id": "764cd674",
   "metadata": {},
   "outputs": [
    {
     "data": {
      "text/plain": [
       "BIRRA DEL BORGO    62\n",
       "Name: Subrand, dtype: int64"
      ]
     },
     "execution_count": 134,
     "metadata": {},
     "output_type": "execute_result"
    }
   ],
   "source": [
    "vendas.Subrand.loc[vendas.Brand == 'BIRRA DEL BORGO'].value_counts()"
   ]
  },
  {
   "cell_type": "markdown",
   "id": "6dd9d2cd",
   "metadata": {},
   "source": [
    "## Volume da embalagem"
   ]
  },
  {
   "cell_type": "code",
   "execution_count": 139,
   "id": "c2f551c2",
   "metadata": {},
   "outputs": [
    {
     "data": {
      "text/plain": [
       "6,000 L    19598\n",
       "0,330 L     6657\n",
       "0,355 L     1627\n",
       "6,000L       177\n",
       "0,750 L      112\n",
       "0,25 L        86\n",
       "1,5 L         31\n",
       "0,250 L       10\n",
       "0,33 L         8\n",
       "0,21 L         5\n",
       "0,473 L        5\n",
       "Name: Container Size, dtype: int64"
      ]
     },
     "execution_count": 139,
     "metadata": {},
     "output_type": "execute_result"
    }
   ],
   "source": [
    "vendas['Container Size'].isna().value_counts()  # 45.354 contém volume, enquanto 28.316 não contém informação\n",
    "vendas['Container Size'].value_counts()"
   ]
  },
  {
   "cell_type": "markdown",
   "id": "3dda378c",
   "metadata": {},
   "source": [
    "##  Distribuição do material"
   ]
  },
  {
   "cell_type": "code",
   "execution_count": 147,
   "id": "081f3f50",
   "metadata": {},
   "outputs": [
    {
     "data": {
      "text/plain": [
       "15709       1\n",
       "65716       1\n",
       "81409       1\n",
       "71275       1\n",
       "3371        1\n",
       "         ... \n",
       "19898    2607\n",
       "9974     2666\n",
       "3372     2954\n",
       "11574    3562\n",
       "10946    3562\n",
       "Name: Material, Length: 179, dtype: int64"
      ]
     },
     "execution_count": 147,
     "metadata": {},
     "output_type": "execute_result"
    }
   ],
   "source": [
    "vendas.Material.value_counts(ascending=True)"
   ]
  },
  {
   "cell_type": "code",
   "execution_count": 145,
   "id": "b69c1044",
   "metadata": {},
   "outputs": [
    {
     "data": {
      "text/plain": [
       "[]"
      ]
     },
     "execution_count": 145,
     "metadata": {},
     "output_type": "execute_result"
    },
    {
     "data": {
      "image/png": "[encoded data removed]",
      "text/plain": [
       "<Figure size 432x288 with 1 Axes>"
      ]
     },
     "metadata": {
      "needs_background": "light"
     },
     "output_type": "display_data"
    }
   ],
   "source": [
    "sns.histplot(x=vendas.Material.value_counts())\n",
    "\n",
    "plt.plot()"
   ]
  },
  {
   "cell_type": "markdown",
   "id": "af8c2013",
   "metadata": {},
   "source": [
    "## Volume por pedido"
   ]
  },
  {
   "cell_type": "code",
   "execution_count": 13,
   "id": "d0a4733f",
   "metadata": {},
   "outputs": [
    {
     "data": {
      "text/plain": [
       "[0.002006296092627004,\n",
       " 0.00375623739401376,\n",
       " 0.005669658183344852,\n",
       " 0.007119650163372871,\n",
       " 0.007799630062503658,\n",
       " 0.010752211770854829,\n",
       " 0.011082250795067089,\n",
       " 0.014077005472772016,\n",
       " 0.01582339287224694,\n",
       " 0.03264756452286616,\n",
       " 0.0327909052333101,\n",
       " 0.03737686026033989,\n",
       " 0.03772490572090544,\n",
       " 0.03795709397914522,\n",
       " 0.04083930842964209,\n",
       " 0.044330661667827204,\n",
       " 0.04443941106632931,\n",
       " 0.049220119918127574,\n",
       " 0.049319155318070663,\n",
       " 0.08065509310867619,\n",
       " 0.08182432683766937,\n",
       " 0.08228822950056068,\n",
       " 0.08373774762700045,\n",
       " 0.09688434157925449,\n",
       " 0.09717457690205422,\n",
       " 0.0984065962314898,\n",
       " 0.0990462985756198,\n",
       " 0.09918561153056367,\n",
       " 0.09921309503868185,\n",
       " 0.11546153457958407,\n",
       " 0.11547622404081964,\n",
       " 0.12079854754398131,\n",
       " 0.12120511392269505,\n",
       " 0.12125344698869599,\n",
       " 0.12144417305796437,\n",
       " 0.12611826485240762,\n",
       " 0.12617086260070276,\n",
       " 0.12626989800064586,\n",
       " 0.1267041848142719,\n",
       " 0.14831190843821884,\n",
       " 0.14834105043389587,\n",
       " 0.14904756613396833,\n",
       " 0.14908831754255736,\n",
       " 0.14931766267926766,\n",
       " 0.15033052472414019,\n",
       " 0.15050490284461415,\n",
       " 0.16387894651922552,\n",
       " 0.1639021653450495,\n",
       " 0.16708883072599343,\n",
       " 0.16728216298999715,\n",
       " 0.16734376395646894,\n",
       " 0.17084933280230138,\n",
       " 0.17090145669700826,\n",
       " 0.17989709321624092,\n",
       " 0.18005915114342053,\n",
       " 0.1800728928974796,\n",
       " 0.1800868715783328,\n",
       " 0.20332939008172313,\n",
       " 0.20338814792666543,\n",
       " 0.20356726458302182,\n",
       " 0.2096932437718461,\n",
       " 0.2099278012980271,\n",
       " 0.2099439123200274,\n",
       " 0.21000930411520513,\n",
       " 0.30645035566265694,\n",
       " 0.33034963523935407,\n",
       " 0.33061617788274156,\n",
       " 0.3306709079721838,\n",
       " 0.33118835609054675,\n",
       " 0.33122579052401807,\n",
       " 0.34536558159723246,\n",
       " 0.3455845019550014,\n",
       " 0.34564491828750254,\n",
       " 0.3456652939917971,\n",
       " 0.3464784267492246,\n",
       " 0.3496982618813456,\n",
       " 0.34972005914640486,\n",
       " 0.3497875832827297,\n",
       " 0.36943923929440353,\n",
       " 0.3740830044591992,\n",
       " 0.3742038371242015,\n",
       " 0.3757808218658791,\n",
       " 0.37588033111941044,\n",
       " 0.37810649527698287,\n",
       " 0.3790707873290603,\n",
       " 0.3847759845315235,\n",
       " 0.41218367607558254,\n",
       " 0.4125419093882953,\n",
       " 0.41687861742790855,\n",
       " 0.4170942208105598,\n",
       " 0.41712596900097215,\n",
       " 0.41738184993862415,\n",
       " 0.41812295695063845,\n",
       " 0.41844991592652714,\n",
       " 0.501639651878723,\n",
       " 0.5183230890136336,\n",
       " 0.5194603376254202,\n",
       " 0.5204686980612044,\n",
       " 0.532030725614369,\n",
       " 0.5327983684273251,\n",
       " 0.5328760804157971,\n",
       " 0.5329151733368274,\n",
       " 0.54191080985606,\n",
       " 0.5421121976310639,\n",
       " 0.5436550649143879,\n",
       " 0.5477918067397619,\n",
       " 0.5487072918722502,\n",
       " 0.5487513602559569,\n",
       " 0.5489764407103731,\n",
       " 0.5600759871614112,\n",
       " 0.5601224248130591,\n",
       " 0.5601690993915012,\n",
       " 0.560356745412446,\n",
       " 0.5669433102890438,\n",
       " 0.568717418123431,\n",
       " 0.6117054156489676,\n",
       " 0.6196889009037101,\n",
       " 0.6201058920613652,\n",
       " 0.6219633981272835,\n",
       " 0.622123323713316,\n",
       " 0.6223957895265566,\n",
       " 0.6230553937213928,\n",
       " 0.6231108345912174,\n",
       " 0.6407381880739109,\n",
       " 0.6412670086783917,\n",
       " 0.6420370207592889,\n",
       " 0.6421564318635266,\n",
       " 0.6436727633459088,\n",
       " 0.6441039701112113,\n",
       " 0.6484198285929418,\n",
       " 0.6488036499994198,\n",
       " 0.6491258704394259,\n",
       " 0.6909860964249407,\n",
       " 0.6999931054302913,\n",
       " 0.7004138874166523,\n",
       " 0.7026883846402256,\n",
       " 0.703768770821423,\n",
       " 0.7039137700194258,\n",
       " 0.7078315914870309,\n",
       " 0.7116982367671056,\n",
       " 0.7120820581735836,\n",
       " 0.712470618115944,\n",
       " 0.7125488039580044,\n",
       " 0.7162107444879575,\n",
       " 0.7163718547079606,\n",
       " 0.7165348603423167,\n",
       " 0.7472998045590877,\n",
       " 0.7478001939482739,\n",
       " 0.753088399993082,\n",
       " 0.7534371562340298,\n",
       " 0.7537001449755055,\n",
       " 0.7538783139246854,\n",
       " 0.7539678722528637,\n",
       " 0.75405790443463,\n",
       " 0.7579700396591762,\n",
       " 0.7580619672552956,\n",
       " 0.7582477178618875,\n",
       " 0.7583415408723599,\n",
       " 0.76090035024888,\n",
       " 0.7630270051529211,\n",
       " 0.7631241451385112,\n",
       " 0.7647996914265436,\n",
       " 0.793756884204162,\n",
       " 0.7938573411648698,\n",
       " 0.7961090934162075,\n",
       " 0.7965260845738626,\n",
       " 0.7971629437964632,\n",
       " 0.7973761779111732,\n",
       " 0.7981324482380113,\n",
       " 0.7985721843679022,\n",
       " 0.7986835399611397,\n",
       " 0.7987953694079654,\n",
       " 0.8020933903821468,\n",
       " 0.8023236832260335,\n",
       " 0.8164871669786602,\n",
       " 0.8166046826685448,\n",
       " 0.816841609462667,\n",
       " 0.818035720505043,\n",
       " 0.8181570270236336,\n",
       " 0.8186498347554078,\n",
       " 0.8195255161864835,\n",
       " 0.819652508948133,\n",
       " 0.820036330354611,\n",
       " 0.8201666400913782,\n",
       " 0.8210821252238665,\n",
       " 0.8412493339395503,\n",
       " 0.8415194304848496,\n",
       " 0.8518911378243441,\n",
       " 0.8520295030721114,\n",
       " 0.8523081289819991,\n",
       " 0.8541561579761525,\n",
       " 0.8543002094669788,\n",
       " 0.855605202249004,\n",
       " 0.8666933762139242,\n",
       " 0.8743058341090713,\n",
       " 0.8755188992949771,\n",
       " 0.8758297472488654,\n",
       " 0.8759861189329861,\n",
       " 0.8761453337386362,\n",
       " 0.8763064439586393,\n",
       " 0.9001886648061597,\n",
       " 0.9005213100251073,\n",
       " 0.9015448337757153,\n",
       " 0.9017225288713069,\n",
       " 0.9019016455276633,\n",
       " 0.9024453925201738,\n",
       " 0.9091954368847159,\n",
       " 0.9095650426835467,\n",
       " 0.9097507932901385,\n",
       " 0.9099379654574951,\n",
       " 0.9101341408430282,\n",
       " 0.9105283870284476,\n",
       " 0.9174940347756411,\n",
       " 0.9177025303544686,\n",
       " 0.9181289985838886,\n",
       " 0.9256751169766815,\n",
       " 0.9258949850416269,\n",
       " 0.9263498844863416,\n",
       " 0.9265787557694637,\n",
       " 0.9321512739672184,\n",
       " 0.9326440816989926,\n",
       " 0.9391121831785294,\n",
       " 0.9393680641161815,\n",
       " 0.9422870022197672,\n",
       " 0.9442606024148054,\n",
       " 0.9478429355419334,\n",
       " 0.9481499926671159,\n",
       " 0.9484579974994748,\n",
       " 0.9487707408677162,\n",
       " 0.9506614166848115,\n",
       " 0.9509798462961118,\n",
       " 0.9533017288785096,\n",
       " 0.9539840780455816,\n",
       " 0.9557254899823799,\n",
       " 0.9597911537695173,\n",
       " 0.9601726059080541,\n",
       " 0.9621627909786807,\n",
       " 0.9962281254375743,\n",
       " 0.9967209331693485,\n",
       " 0.9982135719723185,\n",
       " 1.0]"
      ]
     },
     "execution_count": 13,
     "metadata": {},
     "output_type": "execute_result"
    }
   ],
   "source": [
    "vendas['Order qty'].sort_values(axis=0).value_counts(sort=False)  # 256 quantidades diferentes não-inteiras\n",
    "\n",
    "# Agrupamento\n",
    "## Índice\n",
    "list(vendas['Order qty'].sort_values(axis=0).value_counts(sort=False).index)  # [0-14] < 2 e 2 <= [15-16] < 3\n",
    "\n",
    "volumeindex = list(vendas['Order qty'].sort_values(axis=0).value_counts(sort=False).index)[17:]\n",
    "volumeindex.insert(0, 2.0)\n",
    "volumeindex.insert(0, 1.0)\n",
    "volumeindex\n",
    "\n",
    "## Conteúdo\n",
    "list(vendas['Order qty'].sort_values(axis=0).value_counts(sort=False).values)[17:]\n",
    "\n",
    "volumevalores = list(vendas['Order qty'].sort_values(axis=0).value_counts(sort=False).values)[17:]\n",
    "volumevalores.insert(0, 3693)  # [15:17] = [3691, 2]\n",
    "volumevalores.insert(0, 8468)  # [:15] = [8457, 2, 4, 1, 3, 7, 3, 2, 1, 2, 1, 1, 1, 42, 1]\n",
    "volumevalores\n",
    "\n",
    "## Volume absoluto\n",
    "volumeabsoluto = list(np.array(volumeindex) * np.array(volumevalores))\n",
    "volumeabsoluto\n",
    "\n",
    "## Total para calcular porcentagem\n",
    "total = 0\n",
    "\n",
    "for valor in volumeabsoluto:\n",
    "    total += valor\n",
    "\n",
    "total  # 4.220.713\n",
    "\n",
    "\n",
    "## Cumulação do volume absoluto dos pedidos\n",
    "cumulativopedidos = []\n",
    "\n",
    "for i in range(len(volumeabsoluto)):\n",
    "    cumulativopedidos.append(volumeabsoluto[i] / total)\n",
    "    \n",
    "for i in range(1, len(volumeabsoluto)):\n",
    "    cumulativopedidos[i] += cumulativopedidos[i - 1]\n",
    "    \n",
    "cumulativopedidos"
   ]
  },
  {
   "cell_type": "code",
   "execution_count": 14,
   "id": "510ace3a",
   "metadata": {},
   "outputs": [
    {
     "data": {
      "text/plain": [
       "[0.11503871756554816,\n",
       " 0.16520853144953132,\n",
       " 0.20177964950414345,\n",
       " 0.22256486890368155,\n",
       " 0.230362722456188,\n",
       " 0.25857899741882895,\n",
       " 0.2612824344518408,\n",
       " 0.2827469093873115,\n",
       " 0.2938731150658878,\n",
       " 0.3903409862790382,\n",
       " 0.39108816736856405,\n",
       " 0.4130009509577503,\n",
       " 0.414536068468958,\n",
       " 0.4154870262192637,\n",
       " 0.4265045510120908,\n",
       " 0.4390164379839696,\n",
       " 0.4393832359733732,\n",
       " 0.4546121450889825,\n",
       " 0.45491101752479285,\n",
       " 0.5447493547072408,\n",
       " 0.5479418557261242,\n",
       " 0.5491509305800842,\n",
       " 0.5527645700312458,\n",
       " 0.58417334601277,\n",
       " 0.584839016437984,\n",
       " 0.5875560385817145,\n",
       " 0.5889145496535797,\n",
       " 0.5891998369786714,\n",
       " 0.589254177421546,\n",
       " 0.6203097405243853,\n",
       " 0.6203369107458225,\n",
       " 0.6298736584703165,\n",
       " 0.6305800842276864,\n",
       " 0.6306615948919984,\n",
       " 0.6309740524385273,\n",
       " 0.6384186931123488,\n",
       " 0.6385002037766607,\n",
       " 0.6386496399945659,\n",
       " 0.6392881401983426,\n",
       " 0.6702621926368699,\n",
       " 0.6703029479690259,\n",
       " 0.6712674908300502,\n",
       " 0.6713218312729248,\n",
       " 0.6716207037087352,\n",
       " 0.6729112892270072,\n",
       " 0.6731286509985056,\n",
       " 0.6891047412036407,\n",
       " 0.689131911425078,\n",
       " 0.6927863062083955,\n",
       " 0.693003667979894,\n",
       " 0.6930715935334872,\n",
       " 0.696793913870398,\n",
       " 0.6968482543132726,\n",
       " 0.7060589593805189,\n",
       " 0.7062219807091427,\n",
       " 0.7062355658198614,\n",
       " 0.70624915093058,\n",
       " 0.7284608069555767,\n",
       " 0.7285151473984512,\n",
       " 0.728678168727075,\n",
       " 0.7341665534574106,\n",
       " 0.7343703301181903,\n",
       " 0.734383915228909,\n",
       " 0.7344382556717836,\n",
       " 0.813435674500747,\n",
       " 0.832468414617579,\n",
       " 0.8326721912783588,\n",
       " 0.8327129466105148,\n",
       " 0.833093329710637,\n",
       " 0.8331204999320743,\n",
       " 0.8432549925281889,\n",
       " 0.8434044287460941,\n",
       " 0.8434451840782501,\n",
       " 0.8434587691889688,\n",
       " 0.8439885885069962,\n",
       " 0.8460399402255128,\n",
       " 0.8460535253362315,\n",
       " 0.8460942806683874,\n",
       " 0.857831816329303,\n",
       " 0.8604944980301589,\n",
       " 0.8605624235837521,\n",
       " 0.8614318706697459,\n",
       " 0.8614862111126205,\n",
       " 0.8626681157451432,\n",
       " 0.8631707648417334,\n",
       " 0.8660915636462436,\n",
       " 0.8791876103790245,\n",
       " 0.8793506317076483,\n",
       " 0.8812933025404156,\n",
       " 0.8813883983154461,\n",
       " 0.8814019834261648,\n",
       " 0.881510664311914,\n",
       " 0.881823121858443,\n",
       " 0.8819589729656295,\n",
       " 0.9160304306480096,\n",
       " 0.9226735497894306,\n",
       " 0.9231082733324275,\n",
       " 0.9234886564325497,\n",
       " 0.9276321152017387,\n",
       " 0.9279038174161117,\n",
       " 0.927930987637549,\n",
       " 0.9279445727482677,\n",
       " 0.9310148077706831,\n",
       " 0.9310827333242764,\n",
       " 0.9315853824208665,\n",
       " 0.9329031381605758,\n",
       " 0.9331884254856675,\n",
       " 0.9332020105963862,\n",
       " 0.9332699361499794,\n",
       " 0.9365847031653306,\n",
       " 0.9365982882760493,\n",
       " 0.936611873386768,\n",
       " 0.9366662138296425,\n",
       " 0.9385545442195352,\n",
       " 0.9390436082054067,\n",
       " 0.9507811438663223,\n",
       " 0.9529004211384321,\n",
       " 0.9530091020241813,\n",
       " 0.9534845808993342,\n",
       " 0.9535253362314902,\n",
       " 0.9535932617850834,\n",
       " 0.9537562831137072,\n",
       " 0.9537698682244259,\n",
       " 0.9579812525472081,\n",
       " 0.958103518543676,\n",
       " 0.9582801249830185,\n",
       " 0.9583072952044558,\n",
       " 0.958646922972422,\n",
       " 0.9587420187474526,\n",
       " 0.9596793913870396,\n",
       " 0.9597609020513516,\n",
       " 0.9598288276049448,\n",
       " 0.9684010324684145,\n",
       " 0.9701942670832766,\n",
       " 0.9702757777475886,\n",
       " 0.9707105012905854,\n",
       " 0.9709142779513652,\n",
       " 0.9709414481728025,\n",
       " 0.9716614590408911,\n",
       " 0.9723542996875424,\n",
       " 0.9724222252411356,\n",
       " 0.9724901507947289,\n",
       " 0.9725037359054476,\n",
       " 0.9731286509985055,\n",
       " 0.9731558212199428,\n",
       " 0.9731829914413801,\n",
       " 0.9782230675180001,\n",
       " 0.9783045781823121,\n",
       " 0.9791468550468685,\n",
       " 0.979201195489743,\n",
       " 0.979241950821899,\n",
       " 0.9792691210433363,\n",
       " 0.979282706154055,\n",
       " 0.9792962912647737,\n",
       " 0.9798804510256758,\n",
       " 0.9798940361363945,\n",
       " 0.9799212063578318,\n",
       " 0.9799347914685504,\n",
       " 0.9803015894579541,\n",
       " 0.9806004618937645,\n",
       " 0.9806140470044832,\n",
       " 0.9808449938867003,\n",
       " 0.9847982611058281,\n",
       " 0.9848118462165468,\n",
       " 0.9851107186523572,\n",
       " 0.9851650590952318,\n",
       " 0.9852465697595437,\n",
       " 0.985273739980981,\n",
       " 0.9853688357560115,\n",
       " 0.9854231761988861,\n",
       " 0.9854367613096048,\n",
       " 0.9854503464203235,\n",
       " 0.9858443146311644,\n",
       " 0.9858714848526017,\n",
       " 0.9875288683602773,\n",
       " 0.987542453470996,\n",
       " 0.9875696236924333,\n",
       " 0.9877054747996198,\n",
       " 0.9877190599103385,\n",
       " 0.987773400353213,\n",
       " 0.9878684961282436,\n",
       " 0.9878820812389623,\n",
       " 0.9879228365711182,\n",
       " 0.9879364216818369,\n",
       " 0.9880315174568675,\n",
       " 0.9900964542861026,\n",
       " 0.9901236245075399,\n",
       " 0.9911560929221575,\n",
       " 0.9911696780328761,\n",
       " 0.9911968482543134,\n",
       " 0.9913734546936559,\n",
       " 0.9913870398043746,\n",
       " 0.9915093058008425,\n",
       " 0.9925281891047414,\n",
       " 0.9932210297513927,\n",
       " 0.9933297106371419,\n",
       " 0.9933568808585792,\n",
       " 0.9933704659692979,\n",
       " 0.9933840510800166,\n",
       " 0.9933976361907353,\n",
       " 0.9953538921342212,\n",
       " 0.9953810623556585,\n",
       " 0.9954625730199704,\n",
       " 0.9954761581306891,\n",
       " 0.9954897432414078,\n",
       " 0.9955304985735638,\n",
       " 0.9960331476701539,\n",
       " 0.9960603178915912,\n",
       " 0.9960739030023099,\n",
       " 0.9960874881130286,\n",
       " 0.9961010732237473,\n",
       " 0.9961282434451846,\n",
       " 0.9966037223203374,\n",
       " 0.9966173074310561,\n",
       " 0.9966444776524934,\n",
       " 0.9971199565276463,\n",
       " 0.997133541638365,\n",
       " 0.9971607118598023,\n",
       " 0.997174296970521,\n",
       " 0.9975003396277686,\n",
       " 0.9975275098492059,\n",
       " 0.9978807227278909,\n",
       " 0.9978943078386096,\n",
       " 0.9980437440565147,\n",
       " 0.9981388398315453,\n",
       " 0.9983018611601691,\n",
       " 0.9983154462708878,\n",
       " 0.9983290313816064,\n",
       " 0.9983426164923251,\n",
       " 0.9984241271566371,\n",
       " 0.9984377122673558,\n",
       " 0.9985328080423863,\n",
       " 0.9985599782638236,\n",
       " 0.9986279038174168,\n",
       " 0.998777340035322,\n",
       " 0.9987909251460407,\n",
       " 0.998858850699634,\n",
       " 0.9999320744464075,\n",
       " 0.9999456595571262,\n",
       " 0.9999864148892822,\n",
       " 1.0000000000000009]"
      ]
     },
     "execution_count": 14,
     "metadata": {},
     "output_type": "execute_result"
    }
   ],
   "source": [
    "## Total de pedidos\n",
    "volumetotal = 0\n",
    "\n",
    "for valor in volumevalores:\n",
    "    volumetotal += valor\n",
    "\n",
    "volumetotal  # 73.610 (conferir número abaixo do número de linhas 73.670, apesar de não haver NA)\n",
    "\n",
    "## Cumulação da quantidade de pedidos\n",
    "cumulativolume = []\n",
    "\n",
    "for i in range(len(volumevalores)):\n",
    "    cumulativolume.append(volumevalores[i] / volumetotal)\n",
    "    \n",
    "for i in range(1, len(volumevalores)):\n",
    "    cumulativolume[i] += cumulativolume[i - 1]\n",
    "    \n",
    "cumulativolume"
   ]
  },
  {
   "cell_type": "markdown",
   "id": "ab034939",
   "metadata": {},
   "source": [
    "### Gráfico de volume de pedidos"
   ]
  },
  {
   "cell_type": "code",
   "execution_count": 15,
   "id": "c2e4a30f",
   "metadata": {},
   "outputs": [
    {
     "data": {
      "image/png": "[encoded data removed]",
      "text/plain": [
       "<Figure size 720x432 with 2 Axes>"
      ]
     },
     "metadata": {
      "needs_background": "light"
     },
     "output_type": "display_data"
    }
   ],
   "source": [
    "'''Aprimorar gráfico'''\n",
    "plt.subplots(figsize=(10, 6))\n",
    "\n",
    "# Gráfico de barras\n",
    "sns.barplot(x=volumeindex, y=volumevalores, color='xkcd:lime green')\n",
    "\n",
    "# Gráfico de linha\n",
    "plt.twinx()\n",
    "sns.lineplot(x=list(x for x in range(len(volumeindex))), y=cumulativolume, lw=3, color='xkcd:salmon', marker='+', markersize=10)\n",
    "plt.ylabel(\"Contribuição percentual cumulativa\")\n",
    "\n",
    "# Aprimoração da visualização\n",
    "plt.grid()\n",
    "\n",
    "plt.show()"
   ]
  },
  {
   "cell_type": "markdown",
   "id": "b0faa9a5",
   "metadata": {},
   "source": [
    "### Gráfico de volume absoluto"
   ]
  },
  {
   "cell_type": "code",
   "execution_count": 16,
   "id": "701e58d4",
   "metadata": {},
   "outputs": [
    {
     "data": {
      "image/png": "[encoded data removed]",
      "text/plain": [
       "<Figure size 720x432 with 2 Axes>"
      ]
     },
     "metadata": {
      "needs_background": "light"
     },
     "output_type": "display_data"
    }
   ],
   "source": [
    "'''Aprimorar gráfico'''\n",
    "plt.subplots(figsize=(10, 6))\n",
    "\n",
    "# Gráfico de barras\n",
    "sns.barplot(x=volumeindex, y=volumeabsoluto, color='xkcd:green')\n",
    "\n",
    "# Gráfico de linha\n",
    "plt.twinx()\n",
    "sns.lineplot(x=list(x for x in range(len(volumeindex))), y=cumulativopedidos, lw=3, color='xkcd:lilac', marker='+', markersize=10)\n",
    "plt.ylabel(\"Contribuição percentual cumulativa\")\n",
    "\n",
    "# Aprimoração da visualização\n",
    "plt.grid()\n",
    "\n",
    "plt.show()"
   ]
  },
  {
   "cell_type": "markdown",
   "id": "b764113a",
   "metadata": {},
   "source": [
    "### Análise comparativa da \"Quantidade da Ordem\" das \"Peças Entregues\""
   ]
  },
  {
   "cell_type": "code",
   "execution_count": 40,
   "id": "5ad5295c",
   "metadata": {},
   "outputs": [
    {
     "data": {
      "text/plain": [
       "count    73670.000000\n",
       "mean        57.293573\n",
       "std        123.477770\n",
       "min          1.000000\n",
       "25%          6.000000\n",
       "50%         20.000000\n",
       "75%         70.000000\n",
       "max       7540.000000\n",
       "Name: Order qty, dtype: float64"
      ]
     },
     "execution_count": 40,
     "metadata": {},
     "output_type": "execute_result"
    }
   ],
   "source": [
    "vendas['Order qty'].describe()"
   ]
  },
  {
   "cell_type": "code",
   "execution_count": 42,
   "id": "71efe441",
   "metadata": {},
   "outputs": [
    {
     "data": {
      "text/plain": [
       "count    73666.000000\n",
       "mean        90.574689\n",
       "std        170.056738\n",
       "min          0.000000\n",
       "25%         20.000000\n",
       "50%         48.000000\n",
       "75%         90.000000\n",
       "max       7540.000000\n",
       "Name: PCS delivered, dtype: float64"
      ]
     },
     "execution_count": 42,
     "metadata": {},
     "output_type": "execute_result"
    }
   ],
   "source": [
    "vendas['PCS delivered'].describe()"
   ]
  },
  {
   "cell_type": "code",
   "execution_count": 89,
   "id": "12f4d25c",
   "metadata": {},
   "outputs": [
    {
     "data": {
      "text/plain": [
       "0        70.0\n",
       "1        70.0\n",
       "2        70.0\n",
       "3        70.0\n",
       "4         1.0\n",
       "         ... \n",
       "73665    70.0\n",
       "73666    70.0\n",
       "73667    70.0\n",
       "73668    70.0\n",
       "73669    70.0\n",
       "Length: 73670, dtype: float64"
      ]
     },
     "execution_count": 89,
     "metadata": {},
     "output_type": "execute_result"
    }
   ],
   "source": [
    "proporcao = pd.Series(np.array(vendas['PCS delivered']) / np.array(vendas['Order qty']))\n",
    "proporcao"
   ]
  },
  {
   "cell_type": "code",
   "execution_count": 85,
   "id": "65179556",
   "metadata": {},
   "outputs": [
    {
     "data": {
      "text/plain": [
       "0.392857         1\n",
       "0.416667         1\n",
       "48.492500        1\n",
       "14.000000        1\n",
       "0.183333         1\n",
       "             ...  \n",
       "20.000000     2982\n",
       "0.000000      5302\n",
       "8.000000      7023\n",
       "70.000000     7045\n",
       "1.000000     46104\n",
       "Length: 95, dtype: int64"
      ]
     },
     "execution_count": 85,
     "metadata": {},
     "output_type": "execute_result"
    }
   ],
   "source": [
    "proporcao.value_counts(ascending=True)"
   ]
  },
  {
   "cell_type": "code",
   "execution_count": 86,
   "id": "a6c58b1b",
   "metadata": {
    "scrolled": false
   },
   "outputs": [
    {
     "data": {
      "text/plain": [
       "1        54\n",
       "2        11\n",
       "3         4\n",
       "4         4\n",
       "5         3\n",
       "6         2\n",
       "15        2\n",
       "486       1\n",
       "7045      1\n",
       "7023      1\n",
       "5302      1\n",
       "2982      1\n",
       "2094      1\n",
       "1332      1\n",
       "245       1\n",
       "386       1\n",
       "308       1\n",
       "136       1\n",
       "32        1\n",
       "19        1\n",
       "11        1\n",
       "46104     1\n",
       "dtype: int64"
      ]
     },
     "execution_count": 86,
     "metadata": {},
     "output_type": "execute_result"
    }
   ],
   "source": [
    "proporcao.value_counts(ascending=True).value_counts()"
   ]
  },
  {
   "cell_type": "markdown",
   "id": "6d182c00",
   "metadata": {},
   "source": [
    "**Análise das duas últimas células:** `proporcao.value_counts(ascending=True)` indica a quantidade de vezes que ocorre cada número; *e.g.* 1 ocorre 46.104 vezes, enquanto 70, 7045. Já `proporcao.value_counts(ascending=True).value_counts()` indica quantas vezes cada ocorrência ocorre, *e.g.* 46.104 ocorre 1 vez, enquanto 2, 11."
   ]
  }
 ],
 "metadata": {
  "kernelspec": {
   "display_name": "Python 3 (ipykernel)",
   "language": "python",
   "name": "python3"
  },
  "language_info": {
   "codemirror_mode": {
    "name": "ipython",
    "version": 3
   },
   "file_extension": ".py",
   "mimetype": "text/x-python",
   "name": "python",
   "nbconvert_exporter": "python",
   "pygments_lexer": "ipython3",
   "version": "3.9.7"
  }
 },
 "nbformat": 4,
 "nbformat_minor": 5
}
